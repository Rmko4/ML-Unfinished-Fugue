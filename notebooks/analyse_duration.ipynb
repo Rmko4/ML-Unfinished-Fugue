{
 "cells": [
  {
   "cell_type": "code",
   "execution_count": 8,
   "metadata": {},
   "outputs": [],
   "source": [
    "import pandas as pd\n",
    "import numpy as np\n",
    "import seaborn as sns"
   ]
  },
  {
   "cell_type": "code",
   "execution_count": 4,
   "metadata": {},
   "outputs": [],
   "source": [
    "data = pd.read_csv('F.txt', sep=\"\\t\", header=None)\n"
   ]
  },
  {
   "cell_type": "code",
   "execution_count": 43,
   "metadata": {},
   "outputs": [
    {
     "name": "stdout",
     "output_type": "stream",
     "text": [
      "Min note = 28\n",
      "Max note = 76\n"
     ]
    }
   ],
   "source": [
    "# Min and max note\n",
    "voices = data.to_numpy()\n",
    "voices = voices.T\n",
    "print(f'Min note = {np.min(voices[voices != 0])}')\n",
    "print(f'Max note = {np.max(voices)}')"
   ]
  },
  {
   "cell_type": "code",
   "execution_count": 57,
   "metadata": {},
   "outputs": [],
   "source": [
    "# Extract all durations\n",
    "durations = []\n",
    "duration = 1\n",
    "for i in range(1):\n",
    "    voice = voices[i]\n",
    "    for j in range(voice.size - 1):\n",
    "        if voice[j] == voice[j + 1]:\n",
    "            duration += 1\n",
    "        else:\n",
    "            if voice[j] != 0:\n",
    "                durations.append(duration)\n",
    "            duration = 1"
   ]
  },
  {
   "cell_type": "code",
   "execution_count": 58,
   "metadata": {},
   "outputs": [
    {
     "name": "stdout",
     "output_type": "stream",
     "text": [
      "{96, 1, 2, 128, 4, 32, 6, 8, 10, 12, 14, 16, 18, 20, 180, 248, 24, 62}\n"
     ]
    },
    {
     "data": {
      "image/png": "[encoded data removed]",
      "text/plain": [
       "<Figure size 432x288 with 1 Axes>"
      ]
     },
     "metadata": {
      "needs_background": "light"
     },
     "output_type": "display_data"
    }
   ],
   "source": [
    "g = sns.histplot(data=durations)\n",
    "# g.set_xticks(range(max(durations)))\n",
    "unique_values = set(durations)\n",
    "print(unique_values)"
   ]
  },
  {
   "cell_type": "code",
   "execution_count": 62,
   "metadata": {},
   "outputs": [],
   "source": [
    "# Extract all zero durations\n",
    "zero_durations = []\n",
    "duration = 1\n",
    "for i in range(1):\n",
    "    voice = voices[i]\n",
    "    for j in range(voice.size - 1):\n",
    "        if voice[j] == voice[j + 1]:\n",
    "            duration += 1\n",
    "        else:\n",
    "            if voice[j] == 0:\n",
    "                zero_durations.append(duration)\n",
    "            duration = 1"
   ]
  },
  {
   "cell_type": "code",
   "execution_count": 63,
   "metadata": {},
   "outputs": [
    {
     "name": "stdout",
     "output_type": "stream",
     "text": [
      "{96, 128, 32, 4, 6, 8, 16, 180, 248, 62}\n"
     ]
    },
    {
     "data": {
      "image/png": "[encoded data removed]",
      "text/plain": [
       "<Figure size 432x288 with 1 Axes>"
      ]
     },
     "metadata": {
      "needs_background": "light"
     },
     "output_type": "display_data"
    }
   ],
   "source": [
    "g = sns.histplot(data=zero_durations)\n",
    "# g.set_xticks(range(max(zero_durations)))\n",
    "unique_values = set(zero_durations)\n",
    "print(unique_values)"
   ]
  }
 ],
 "metadata": {
  "interpreter": {
   "hash": "fc6637c111560e743e5855bffa75753457657469d94f26f69a2fcd34a0dea967"
  },
  "kernelspec": {
   "display_name": "Python 3.8.10 64-bit ('machine_learning': virtualenv)",
   "language": "python",
   "name": "python3"
  },
  "language_info": {
   "codemirror_mode": {
    "name": "ipython",
    "version": 3
   },
   "file_extension": ".py",
   "mimetype": "text/x-python",
   "name": "python",
   "nbconvert_exporter": "python",
   "pygments_lexer": "ipython3",
   "version": "3.8.10"
  },
  "orig_nbformat": 4
 },
 "nbformat": 4,
 "nbformat_minor": 2
}
